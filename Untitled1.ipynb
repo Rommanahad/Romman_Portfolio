{
  "nbformat": 4,
  "nbformat_minor": 0,
  "metadata": {
    "colab": {
      "name": "Untitled1.ipynb",
      "provenance": [],
      "authorship_tag": "ABX9TyNylLPR8/dUtIx8J9QhFw5D",
      "include_colab_link": true
    },
    "kernelspec": {
      "name": "python3",
      "display_name": "Python 3"
    }
  },
  "cells": [
    {
      "cell_type": "markdown",
      "metadata": {
        "id": "view-in-github",
        "colab_type": "text"
      },
      "source": [
        "<a href=\"https://colab.research.google.com/github/Rommanahad/Romman_Portfolio/blob/main/Untitled1.ipynb\" target=\"_parent\"><img src=\"https://colab.research.google.com/assets/colab-badge.svg\" alt=\"Open In Colab\"/></a>"
      ]
    },
    {
      "cell_type": "code",
      "metadata": {
        "id": "FqXCxRs4kBXo"
      },
      "source": [
        "import pandas as pd\n",
        "import seaborn as sns\n",
        "import matplotlib.pyplot as plt\n",
        "import numpy as np"
      ],
      "execution_count": 1,
      "outputs": []
    },
    {
      "cell_type": "code",
      "metadata": {
        "id": "5YuW3NvNkGtR"
      },
      "source": [
        "Powerlifting_Results=pd.read_csv('/content/Powelifting data.csv')"
      ],
      "execution_count": 4,
      "outputs": []
    },
    {
      "cell_type": "code",
      "metadata": {
        "id": "J2UvDY9EkI1N"
      },
      "source": [
        "#Cleaning data\n",
        "Powerlifting_Results=Powerlifting_Results.drop(['MeetID','LifterID','Squat1Kg','Squat2Kg','Squat3Kg','Bench1Kg','Bench2Kg','Bench3Kg','Deadlift1Kg','Deadlift2Kg','Deadlift3Kg','Place','Wilks','McCulloch','Deadlift4Kg','Squat4Kg','Bench4Kg','Division','WeightClassKg','AgeClass','Name'], axis=1)\n",
        "Powerlifting_Results=Powerlifting_Results[Powerlifting_Results['Event']=='SBD']\n",
        "Powerlifting_Results=Powerlifting_Results[Powerlifting_Results.Equipment.isin(['Wraps','Raw'])]\n",
        "Powerlifting_Results=Powerlifting_Results.drop(['Event'],axis=1)"
      ],
      "execution_count": 5,
      "outputs": []
    },
    {
      "cell_type": "code",
      "metadata": {
        "id": "tzIPywiWkYG3",
        "outputId": "1c124ca5-c108-495c-a7c5-0bb7326d8605",
        "colab": {
          "base_uri": "https://localhost:8080/",
          "height": 406
        }
      },
      "source": [
        "#Creating dummy Variables\n",
        "Powerlifting_Results['Sex'] = pd.get_dummies(Powerlifting_Results['Sex'])\n",
        "Powerlifting_Results['Tested'] = pd.get_dummies(Powerlifting_Results['Tested'])\n",
        "Powerlifting_Results['Equipment'] = pd.get_dummies(Powerlifting_Results['Equipment'])\n",
        "\n",
        "Powerlifting_Results"
      ],
      "execution_count": 6,
      "outputs": [
        {
          "output_type": "execute_result",
          "data": {
            "text/html": [
              "<div>\n",
              "<style scoped>\n",
              "    .dataframe tbody tr th:only-of-type {\n",
              "        vertical-align: middle;\n",
              "    }\n",
              "\n",
              "    .dataframe tbody tr th {\n",
              "        vertical-align: top;\n",
              "    }\n",
              "\n",
              "    .dataframe thead th {\n",
              "        text-align: right;\n",
              "    }\n",
              "</style>\n",
              "<table border=\"1\" class=\"dataframe\">\n",
              "  <thead>\n",
              "    <tr style=\"text-align: right;\">\n",
              "      <th></th>\n",
              "      <th>Sex</th>\n",
              "      <th>Equipment</th>\n",
              "      <th>Age</th>\n",
              "      <th>BodyweightKg</th>\n",
              "      <th>Best3SquatKg</th>\n",
              "      <th>Best3BenchKg</th>\n",
              "      <th>Best3DeadliftKg</th>\n",
              "      <th>TotalKg</th>\n",
              "      <th>Tested</th>\n",
              "    </tr>\n",
              "  </thead>\n",
              "  <tbody>\n",
              "    <tr>\n",
              "      <th>0</th>\n",
              "      <td>1</td>\n",
              "      <td>0</td>\n",
              "      <td>47.0</td>\n",
              "      <td>59.60</td>\n",
              "      <td>47.63</td>\n",
              "      <td>20.41</td>\n",
              "      <td>70.31</td>\n",
              "      <td>138.35</td>\n",
              "      <td>1</td>\n",
              "    </tr>\n",
              "    <tr>\n",
              "      <th>5</th>\n",
              "      <td>1</td>\n",
              "      <td>0</td>\n",
              "      <td>28.0</td>\n",
              "      <td>62.41</td>\n",
              "      <td>170.10</td>\n",
              "      <td>77.11</td>\n",
              "      <td>145.15</td>\n",
              "      <td>392.36</td>\n",
              "      <td>1</td>\n",
              "    </tr>\n",
              "    <tr>\n",
              "      <th>6</th>\n",
              "      <td>1</td>\n",
              "      <td>1</td>\n",
              "      <td>60.0</td>\n",
              "      <td>67.31</td>\n",
              "      <td>124.74</td>\n",
              "      <td>95.25</td>\n",
              "      <td>163.29</td>\n",
              "      <td>383.28</td>\n",
              "      <td>1</td>\n",
              "    </tr>\n",
              "    <tr>\n",
              "      <th>7</th>\n",
              "      <td>1</td>\n",
              "      <td>1</td>\n",
              "      <td>60.0</td>\n",
              "      <td>67.31</td>\n",
              "      <td>124.74</td>\n",
              "      <td>95.25</td>\n",
              "      <td>163.29</td>\n",
              "      <td>383.28</td>\n",
              "      <td>1</td>\n",
              "    </tr>\n",
              "    <tr>\n",
              "      <th>8</th>\n",
              "      <td>1</td>\n",
              "      <td>0</td>\n",
              "      <td>52.0</td>\n",
              "      <td>65.95</td>\n",
              "      <td>120.20</td>\n",
              "      <td>54.43</td>\n",
              "      <td>108.86</td>\n",
              "      <td>283.49</td>\n",
              "      <td>1</td>\n",
              "    </tr>\n",
              "    <tr>\n",
              "      <th>...</th>\n",
              "      <td>...</td>\n",
              "      <td>...</td>\n",
              "      <td>...</td>\n",
              "      <td>...</td>\n",
              "      <td>...</td>\n",
              "      <td>...</td>\n",
              "      <td>...</td>\n",
              "      <td>...</td>\n",
              "      <td>...</td>\n",
              "    </tr>\n",
              "    <tr>\n",
              "      <th>76945</th>\n",
              "      <td>0</td>\n",
              "      <td>1</td>\n",
              "      <td>18.5</td>\n",
              "      <td>102.00</td>\n",
              "      <td>190.00</td>\n",
              "      <td>150.00</td>\n",
              "      <td>232.50</td>\n",
              "      <td>572.50</td>\n",
              "      <td>0</td>\n",
              "    </tr>\n",
              "    <tr>\n",
              "      <th>76946</th>\n",
              "      <td>0</td>\n",
              "      <td>1</td>\n",
              "      <td>22.5</td>\n",
              "      <td>100.20</td>\n",
              "      <td>180.00</td>\n",
              "      <td>160.00</td>\n",
              "      <td>230.00</td>\n",
              "      <td>570.00</td>\n",
              "      <td>0</td>\n",
              "    </tr>\n",
              "    <tr>\n",
              "      <th>76947</th>\n",
              "      <td>0</td>\n",
              "      <td>1</td>\n",
              "      <td>21.5</td>\n",
              "      <td>101.20</td>\n",
              "      <td>180.00</td>\n",
              "      <td>120.00</td>\n",
              "      <td>240.00</td>\n",
              "      <td>540.00</td>\n",
              "      <td>0</td>\n",
              "    </tr>\n",
              "    <tr>\n",
              "      <th>76948</th>\n",
              "      <td>0</td>\n",
              "      <td>1</td>\n",
              "      <td>18.5</td>\n",
              "      <td>102.90</td>\n",
              "      <td>177.50</td>\n",
              "      <td>102.50</td>\n",
              "      <td>200.00</td>\n",
              "      <td>480.00</td>\n",
              "      <td>0</td>\n",
              "    </tr>\n",
              "    <tr>\n",
              "      <th>76949</th>\n",
              "      <td>0</td>\n",
              "      <td>1</td>\n",
              "      <td>18.5</td>\n",
              "      <td>107.70</td>\n",
              "      <td>220.00</td>\n",
              "      <td>147.50</td>\n",
              "      <td>247.50</td>\n",
              "      <td>615.00</td>\n",
              "      <td>0</td>\n",
              "    </tr>\n",
              "  </tbody>\n",
              "</table>\n",
              "<p>32936 rows × 9 columns</p>\n",
              "</div>"
            ],
            "text/plain": [
              "       Sex  Equipment   Age  ...  Best3DeadliftKg  TotalKg  Tested\n",
              "0        1          0  47.0  ...            70.31   138.35       1\n",
              "5        1          0  28.0  ...           145.15   392.36       1\n",
              "6        1          1  60.0  ...           163.29   383.28       1\n",
              "7        1          1  60.0  ...           163.29   383.28       1\n",
              "8        1          0  52.0  ...           108.86   283.49       1\n",
              "...    ...        ...   ...  ...              ...      ...     ...\n",
              "76945    0          1  18.5  ...           232.50   572.50       0\n",
              "76946    0          1  22.5  ...           230.00   570.00       0\n",
              "76947    0          1  21.5  ...           240.00   540.00       0\n",
              "76948    0          1  18.5  ...           200.00   480.00       0\n",
              "76949    0          1  18.5  ...           247.50   615.00       0\n",
              "\n",
              "[32936 rows x 9 columns]"
            ]
          },
          "metadata": {
            "tags": []
          },
          "execution_count": 6
        }
      ]
    },
    {
      "cell_type": "code",
      "metadata": {
        "id": "kNfaUf4TkZrc"
      },
      "source": [
        "#Imputing missing values\n",
        "list = ['Age','BodyweightKg','Best3SquatKg','Best3BenchKg','Best3DeadliftKg','TotalKg']\n",
        "for variable in list:\n",
        "    Powerlifting_Results[variable]=Powerlifting_Results[variable].fillna(Powerlifting_Results[variable].mean())"
      ],
      "execution_count": 7,
      "outputs": []
    },
    {
      "cell_type": "code",
      "metadata": {
        "id": "rCRhTBbEkdy9",
        "outputId": "2e8bc12d-d3b8-4386-c7ea-e4dca0177205",
        "colab": {
          "base_uri": "https://localhost:8080/",
          "height": 301
        }
      },
      "source": [
        "Powerlifting_Results.info()"
      ],
      "execution_count": 8,
      "outputs": [
        {
          "output_type": "stream",
          "text": [
            "<class 'pandas.core.frame.DataFrame'>\n",
            "Int64Index: 32936 entries, 0 to 76949\n",
            "Data columns (total 9 columns):\n",
            " #   Column           Non-Null Count  Dtype  \n",
            "---  ------           --------------  -----  \n",
            " 0   Sex              32936 non-null  uint8  \n",
            " 1   Equipment        32936 non-null  uint8  \n",
            " 2   Age              32936 non-null  float64\n",
            " 3   BodyweightKg     32936 non-null  float64\n",
            " 4   Best3SquatKg     32936 non-null  float64\n",
            " 5   Best3BenchKg     32936 non-null  float64\n",
            " 6   Best3DeadliftKg  32936 non-null  float64\n",
            " 7   TotalKg          32936 non-null  float64\n",
            " 8   Tested           32936 non-null  uint8  \n",
            "dtypes: float64(6), uint8(3)\n",
            "memory usage: 1.9 MB\n"
          ],
          "name": "stdout"
        }
      ]
    },
    {
      "cell_type": "code",
      "metadata": {
        "id": "iygDehjbkf-U"
      },
      "source": [
        "#Creating feature and target arrays\n",
        "X = Powerlifting_Results.drop('TotalKg', axis=1).values\n",
        "y = Powerlifting_Results['TotalKg'].values"
      ],
      "execution_count": 9,
      "outputs": []
    },
    {
      "cell_type": "code",
      "metadata": {
        "id": "k-v624CMkm7G",
        "outputId": "84c0b9af-5b20-4803-d2b6-c18016077104",
        "colab": {
          "base_uri": "https://localhost:8080/",
          "height": 34
        }
      },
      "source": [
        "#Creating Lasso Regression model\n",
        "from sklearn.model_selection import train_test_split\n",
        "from sklearn.linear_model import Lasso\n",
        "Lass= Lasso(alpha=0.1, normalize=True)\n",
        "\n",
        "X_train, X_test, y_train, y_test = train_test_split(X, y,\n",
        "    test_size=0.3, random_state=42)\n",
        "\n",
        "Lass.fit(X_train, y_train)\n",
        "\n",
        "y_pred = Lass.predict(X_test)\n",
        "\n",
        "Lass.score(X_test, y_test)"
      ],
      "execution_count": 11,
      "outputs": [
        {
          "output_type": "execute_result",
          "data": {
            "text/plain": [
              "0.9840398399101814"
            ]
          },
          "metadata": {
            "tags": []
          },
          "execution_count": 11
        }
      ]
    },
    {
      "cell_type": "code",
      "metadata": {
        "id": "-ESQqPKqkrIx",
        "outputId": "ef72baf2-3450-4760-8480-4545feedafdc",
        "colab": {
          "base_uri": "https://localhost:8080/",
          "height": 460
        }
      },
      "source": [
        "#Creating Graph for coefficients\n",
        "plt.style.use('Solarize_Light2')\n",
        "\n",
        "names = Powerlifting_Results.drop('TotalKg', axis=1).columns\n",
        "\n",
        "lasso = Lasso(alpha=0.1)\n",
        "\n",
        "lasso_coef = lasso.fit(X, y).coef_\n",
        "\n",
        "_ = plt.plot(range(len(names)), lasso_coef, color='r')\n",
        "_ = plt.xticks(range(len(names)),names, rotation=60)\n",
        "_ = plt.ylabel('Coefficients')\n",
        "_ = plt.title('Lasso Graph')\n",
        "_ = plt.xlabel('Feature Variables')\n",
        "\n"
      ],
      "execution_count": 36,
      "outputs": [
        {
          "output_type": "display_data",
          "data": {
            "image/png": "[encoded data removed]",
            "text/plain": [
              "<Figure size 576x396 with 1 Axes>"
            ]
          },
          "metadata": {
            "tags": []
          }
        }
      ]
    },
    {
      "cell_type": "code",
      "metadata": {
        "id": "YHVCbrsCkulI"
      },
      "source": [
        ""
      ],
      "execution_count": 24,
      "outputs": []
    },
    {
      "cell_type": "code",
      "metadata": {
        "id": "ZagerxcVk2lk"
      },
      "source": [
        ""
      ],
      "execution_count": null,
      "outputs": []
    }
  ]
}